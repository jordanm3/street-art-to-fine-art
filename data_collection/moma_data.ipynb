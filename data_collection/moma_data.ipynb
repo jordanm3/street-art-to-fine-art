{
 "cells": [
  {
   "cell_type": "markdown",
   "metadata": {},
   "source": [
    "## Download Images and Metadata (MoMA)"
   ]
  },
  {
   "cell_type": "markdown",
   "metadata": {},
   "source": [
    "- Code in this notebook scrapes selected artwork images from the Museum of Modern Art's online collection.\n",
    "- Associated metadata for each artwork was downloaded from MoMA's open API [here](https://github.com/MuseumofModernArt/collection). "
   ]
  },
  {
   "cell_type": "markdown",
   "metadata": {},
   "source": [
    "### Imports"
   ]
  },
  {
   "cell_type": "code",
   "execution_count": null,
   "metadata": {},
   "outputs": [],
   "source": [
    "import pandas as pd\n",
    "import requests\n",
    "import pickle\n",
    "import random\n",
    "import time\n",
    "from bs4 import BeautifulSoup\n",
    "from lxml import html\n",
    "from fake_useragent import UserAgent\n",
    "from itertools import islice"
   ]
  },
  {
   "cell_type": "code",
   "execution_count": null,
   "metadata": {},
   "outputs": [],
   "source": [
    "# Web scraping user agent\n",
    "ua = UserAgent()\n",
    "user_agent = {'User-agent': ua.random}"
   ]
  },
  {
   "cell_type": "markdown",
   "metadata": {
    "ExecuteTime": {
     "end_time": "2020-05-30T17:12:32.510939Z",
     "start_time": "2020-05-30T17:12:32.507029Z"
    }
   },
   "source": [
    "### Download and Clean Metadata"
   ]
  },
  {
   "cell_type": "code",
   "execution_count": null,
   "metadata": {},
   "outputs": [],
   "source": [
    "# Display all columns in dataframe\n",
    "pd.set_option('display.max_columns', 999)"
   ]
  },
  {
   "cell_type": "code",
   "execution_count": null,
   "metadata": {},
   "outputs": [],
   "source": [
    "# Read in metadata\n",
    "moma = pd.read_csv('./moma_data/artworks_moma.csv')"
   ]
  },
  {
   "cell_type": "code",
   "execution_count": null,
   "metadata": {},
   "outputs": [],
   "source": [
    "# Display column headings\n",
    "moma.columns"
   ]
  },
  {
   "cell_type": "code",
   "execution_count": null,
   "metadata": {},
   "outputs": [],
   "source": [
    "# Filter dataframe to include only art with images available in the online collection\n",
    "moma = moma[moma.ThumbnailURL.notnull()]"
   ]
  },
  {
   "cell_type": "code",
   "execution_count": null,
   "metadata": {},
   "outputs": [],
   "source": [
    "# Rename columns\n",
    "moma.rename(columns={'ObjectID': 'id', 'URL': 'page_url', \n",
    "                     'ThumbnailURL': 'image_url', 'Title': 'title', \n",
    "                     'Artist': 'artist', 'Date': 'date', 'Medium': 'medium', \n",
    "                     'Classification': 'classification', 'Department': 'department'}, inplace=True)\n",
    "\n",
    "moma['id'] = moma['id'].astype(str)\n",
    "\n",
    "moma['source'] = 'moma'\n",
    "\n",
    "# Keep only selected metadata\n",
    "moma = moma[['id', 'title', 'artist', 'date', 'classification', \n",
    "             'department', 'medium', 'source', 'page_url', 'image_url']]"
   ]
  },
  {
   "cell_type": "code",
   "execution_count": null,
   "metadata": {},
   "outputs": [],
   "source": [
    "# Display first 5 rows of dataframe\n",
    "moma.head()"
   ]
  },
  {
   "cell_type": "markdown",
   "metadata": {},
   "source": [
    "### Pickle Dataframe"
   ]
  },
  {
   "cell_type": "code",
   "execution_count": null,
   "metadata": {},
   "outputs": [],
   "source": [
    "pickle.dump(moma, open('./all_data_final/moma.pickle', 'wb'))"
   ]
  },
  {
   "cell_type": "markdown",
   "metadata": {},
   "source": [
    "### Download and Save Images"
   ]
  },
  {
   "cell_type": "code",
   "execution_count": null,
   "metadata": {},
   "outputs": [],
   "source": [
    "# Create image counter.\n",
    "imagecounter = 0"
   ]
  },
  {
   "cell_type": "code",
   "execution_count": null,
   "metadata": {},
   "outputs": [],
   "source": [
    "pickle.dump(imagecounter, open('./moma_data/Image counter.pickle', 'wb'))"
   ]
  },
  {
   "cell_type": "code",
   "execution_count": null,
   "metadata": {},
   "outputs": [],
   "source": [
    "imagecounter = pickle.load(open('./moma_data/Image counter.pickle', 'rb'))\n",
    "print('Count:', imagecounter)\n",
    "print()\n",
    "\n",
    "# Loop through each piece of art\n",
    "for index, row in islice(moma.iterrows(), imagecounter, 100):\n",
    "   \n",
    "    timeDelay = random.randrange(20, 30)/1000\n",
    "    time.sleep(timeDelay)\n",
    "    soup = BeautifulSoup(requests.get(row['URL'], headers = user_agent).text, \"lxml\")\n",
    "    \n",
    "    # Get URL for artwork\n",
    "    try: \n",
    "        link = 'http://www.moma.org' + soup.find('div', class_='work__image-container').find('img')['src']\n",
    "    except: \n",
    "        pass\n",
    "    \n",
    "    # Get image\n",
    "    img = requests.get(link, headers = user_agent).content\n",
    "    file = './moma_data/' + str(row['ObjectID']) + '.jpg'\n",
    "\n",
    "    with open(file, 'wb') as handler:\n",
    "            handler.write(img)\n",
    "            \n",
    "    # Increment image counter and save every 10 images\n",
    "    imagecounter += 1\n",
    "    if imagecounter % 10 == 0:\n",
    "        pickle.dump(imagecounter, open('./moma_data/Image counter.pickle', 'wb'))\n",
    "        print('Count:', imagecounter)"
   ]
  }
 ],
 "metadata": {
  "kernelspec": {
   "display_name": "Python 3",
   "language": "python",
   "name": "python3"
  },
  "language_info": {
   "codemirror_mode": {
    "name": "ipython",
    "version": 3
   },
   "file_extension": ".py",
   "mimetype": "text/x-python",
   "name": "python",
   "nbconvert_exporter": "python",
   "pygments_lexer": "ipython3",
   "version": "3.7.5"
  }
 },
 "nbformat": 4,
 "nbformat_minor": 2
}
