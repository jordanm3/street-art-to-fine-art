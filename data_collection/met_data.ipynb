{
 "cells": [
  {
   "cell_type": "markdown",
   "metadata": {},
   "source": [
    "## Download Images and Metadata (Met)"
   ]
  },
  {
   "cell_type": "markdown",
   "metadata": {
    "ExecuteTime": {
     "end_time": "2020-05-30T17:20:03.391846Z",
     "start_time": "2020-05-30T17:20:03.380627Z"
    }
   },
   "source": [
    "- Code in this notebook scrapes selected artwork images from the Museum of Modern Art's online collection.\n",
    "- Associated metadata for each artwork was downloaded from The Met's open API [here](https://github.com/metmuseum/openaccess). "
   ]
  },
  {
   "cell_type": "markdown",
   "metadata": {},
   "source": [
    "### Imports"
   ]
  },
  {
   "cell_type": "code",
   "execution_count": null,
   "metadata": {},
   "outputs": [],
   "source": [
    "import pandas as pd\n",
    "import requests\n",
    "import pickle\n",
    "import random\n",
    "import time\n",
    "from bs4 import BeautifulSoup\n",
    "from lxml import html\n",
    "from fake_useragent import UserAgent\n",
    "from itertools import islice"
   ]
  },
  {
   "cell_type": "code",
   "execution_count": null,
   "metadata": {},
   "outputs": [],
   "source": [
    "# Web scraping user agent\n",
    "ua = UserAgent()\n",
    "user_agent = {'User-agent': ua.random}"
   ]
  },
  {
   "cell_type": "markdown",
   "metadata": {},
   "source": [
    "### Download and Clean Metadata"
   ]
  },
  {
   "cell_type": "code",
   "execution_count": null,
   "metadata": {},
   "outputs": [],
   "source": [
    "# Display all columns in dataframe\n",
    "pd.set_option('display.max_columns', 999)"
   ]
  },
  {
   "cell_type": "code",
   "execution_count": null,
   "metadata": {},
   "outputs": [],
   "source": [
    "# Read in metadata\n",
    "met = pd.read_csv('./met_data/artworks_met.csv')"
   ]
  },
  {
   "cell_type": "code",
   "execution_count": null,
   "metadata": {},
   "outputs": [],
   "source": [
    "# Display column headings\n",
    "met.columns"
   ]
  },
  {
   "cell_type": "code",
   "execution_count": null,
   "metadata": {},
   "outputs": [],
   "source": [
    "# Filter dataframe to include only only art with images available in the online collection\n",
    "met = met.loc[met['Is Public Domain'] == True]"
   ]
  },
  {
   "cell_type": "code",
   "execution_count": null,
   "metadata": {},
   "outputs": [],
   "source": [
    "# Rename columns\n",
    "met.rename(columns={'Object ID': 'id', 'Link Resource': 'page_url', \n",
    "                    'Title': 'title', 'Artist Display Name': 'artist', \n",
    "                    'Object End Date': 'date', 'Medium': 'medium', 'Tags': 'tags', \n",
    "                    'Department': 'department', 'Classification': 'classification'}, inplace=True)\n",
    "\n",
    "met['id'] = met['id'].astype(str)\n",
    "\n",
    "met['source'] = 'met'\n",
    "\n",
    "# Keep only selected metadata\n",
    "met = met[['id', 'title', 'artist', 'date', 'classification', \n",
    "           'department', 'medium', 'source', 'page_url', 'tags']]"
   ]
  },
  {
   "cell_type": "code",
   "execution_count": null,
   "metadata": {},
   "outputs": [],
   "source": [
    "# Display first 5 rows of dataframe\n",
    "met.head()"
   ]
  },
  {
   "cell_type": "markdown",
   "metadata": {},
   "source": [
    "### Pickle Dataframe"
   ]
  },
  {
   "cell_type": "code",
   "execution_count": null,
   "metadata": {},
   "outputs": [],
   "source": [
    "pickle.dump(met, open('./all_data_final/met.pickle', 'wb'))"
   ]
  },
  {
   "cell_type": "markdown",
   "metadata": {},
   "source": [
    "### Download and Save Images"
   ]
  },
  {
   "cell_type": "code",
   "execution_count": null,
   "metadata": {},
   "outputs": [],
   "source": [
    "# Imports for webscraping \n",
    "import os\n",
    "from bs4 import BeautifulSoup\n",
    "from selenium import webdriver\n",
    "\n",
    "# path to the chromedriver exe\n",
    "chromedriver = \"/Users/mjordan/Downloads/chromedriver\"\n",
    "\n",
    "os.environ[\"webdriver.chrome.driver\"] = chromedriver\n",
    "\n",
    "driver = webdriver.Chrome(chromedriver)"
   ]
  },
  {
   "cell_type": "code",
   "execution_count": null,
   "metadata": {},
   "outputs": [],
   "source": [
    "# Create image counter.\n",
    "imagecounter = 0"
   ]
  },
  {
   "cell_type": "code",
   "execution_count": null,
   "metadata": {},
   "outputs": [],
   "source": [
    "pickle.dump(imagecounter, open('./met_data/Image counter.pickle', 'wb'))"
   ]
  },
  {
   "cell_type": "code",
   "execution_count": null,
   "metadata": {},
   "outputs": [],
   "source": [
    "imagecounter = pickle.load(open('./met_data/Image counter.pickle', 'rb'))\n",
    "print('Count:', imagecounter)\n",
    "print()\n",
    "\n",
    "# Loop through each piece of art\n",
    "for index, row in islice(met.iterrows(), imagecounter, 100):\n",
    "    \n",
    "    timeDelay = random.randrange(20, 30)/1000\n",
    "    time.sleep(timeDelay)\n",
    "    driver.get(row['Link Resource'])\n",
    "    soup = BeautifulSoup(driver.page_source, 'html.parser')\n",
    "    \n",
    "    # Get URL for artwork\n",
    "    link = soup.find('div', class_='cell the-artwork gtm__TGACTEST01').find('img')['src']\n",
    "    \n",
    "    # Get image\n",
    "    img = requests.get(link, headers = user_agent).content\n",
    "    file = './met_data/' + str(row['Object ID']) + '.jpg'\n",
    "\n",
    "    with open(file, 'wb') as handler:\n",
    "            handler.write(img)\n",
    "            \n",
    "    # Increment image counter and save every 10 images\n",
    "    imagecounter += 1\n",
    "    if imagecounter % 10 == 0:\n",
    "        pickle.dump(imagecounter, open('./met_data/Image counter.pickle', 'wb'))\n",
    "        print('Count:', imagecounter)\n"
   ]
  }
 ],
 "metadata": {
  "kernelspec": {
   "display_name": "Python 3",
   "language": "python",
   "name": "python3"
  },
  "language_info": {
   "codemirror_mode": {
    "name": "ipython",
    "version": 3
   },
   "file_extension": ".py",
   "mimetype": "text/x-python",
   "name": "python",
   "nbconvert_exporter": "python",
   "pygments_lexer": "ipython3",
   "version": "3.7.5"
  }
 },
 "nbformat": 4,
 "nbformat_minor": 2
}
